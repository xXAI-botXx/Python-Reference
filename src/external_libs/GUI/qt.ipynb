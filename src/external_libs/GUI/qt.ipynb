{
 "cells": [
  {
   "cell_type": "markdown",
   "id": "7ca34489",
   "metadata": {},
   "source": [
    "# QT\n"
   ]
  },
  {
   "cell_type": "markdown",
   "id": "931415c5",
   "metadata": {},
   "source": [
    "### Resources\n",
    "\n",
    "- []()"
   ]
  },
  {
   "cell_type": "markdown",
   "id": "55a630ed",
   "metadata": {},
   "source": [
    "..."
   ]
  }
 ],
 "metadata": {
  "language_info": {
   "name": "python"
  }
 },
 "nbformat": 4,
 "nbformat_minor": 5
}
