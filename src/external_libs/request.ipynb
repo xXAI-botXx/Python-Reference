{
 "cells": [
  {
   "cell_type": "markdown",
   "id": "9e996966",
   "metadata": {},
   "source": [
    "# Request\n",
    "\n",
    "Analyzing websites and downloading files from websites via request module."
   ]
  }
 ],
 "metadata": {
  "language_info": {
   "name": "python"
  }
 },
 "nbformat": 4,
 "nbformat_minor": 5
}
