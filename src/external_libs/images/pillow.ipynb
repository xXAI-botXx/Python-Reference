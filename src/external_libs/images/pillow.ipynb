{
 "cells": [
  {
   "cell_type": "markdown",
   "id": "bbbab6d6",
   "metadata": {},
   "source": [
    "# Pillow (PIL)\n",
    "\n",
    "Pillow is a popular Python library for **image processing**. It is a fork of the original PIL (Python Imaging Library) and is actively maintained.\n",
    "\n",
    "You can use it to **load, manipulate, save, and display images** in various formats.\n",
    "\n",
    "Contents:\n",
    "- [Installation](#installation)\n",
    "- [Importing](#importing-pillow)\n",
    "- [Loading](#opening-images) and [saving images](#saving-images)\n",
    "- [Color Modes](#converting-between-color-modes)\n",
    "- Basic transformations ([resize and crop](#resizing-and-cropping), [rotate and flipping](#rotating-and-flipping))\n",
    "- [Drawing shapes and text](#drawing-on-images)\n",
    "- [Filters and image enhancements](#applying-filters)\n",
    "- [NumPy interoperability](#working-with-numpy-arrays)\n",
    "- [Creating New Images](#creating-new-images)\n",
    "- [Handling Multiple Image Formats](#handling-multiple-image-formats)\n",
    "- [Tips](#tips)"
   ]
  },
  {
   "cell_type": "markdown",
   "id": "9fbc80ed",
   "metadata": {},
   "source": [
    "---\n",
    "### Installation\n",
    "\n",
    "Install Pillow via pip:\n",
    "```bash\n",
    "pip install pillow\n",
    "```"
   ]
  },
  {
   "cell_type": "markdown",
   "id": "16cbfa94",
   "metadata": {},
   "source": [
    "---\n",
    "### Importing pillow"
   ]
  },
  {
   "cell_type": "code",
   "execution_count": null,
   "id": "5de92691",
   "metadata": {},
   "outputs": [],
   "source": [
    "from PIL import Image, ImageDraw, ImageFont, ImageFilter"
   ]
  },
  {
   "cell_type": "markdown",
   "id": "1dd4e5c0",
   "metadata": {},
   "source": [
    "---\n",
    "### Opening Images"
   ]
  },
  {
   "cell_type": "code",
   "execution_count": null,
   "id": "e1364e66",
   "metadata": {},
   "outputs": [],
   "source": [
    "# Open an image from a file\n",
    "img = Image.open(\"example.jpg\")\n",
    "\n",
    "# Show image\n",
    "img.show()\n",
    "\n",
    "# Get image size and mode\n",
    "print(\"Size:\", img.size)       # (width, height)\n",
    "print(\"Mode:\", img.mode)       # e.g., 'RGB', 'L' (grayscale)"
   ]
  },
  {
   "cell_type": "markdown",
   "id": "97e4d011",
   "metadata": {},
   "source": [
    "---\n",
    "### Converting Between Color Modes"
   ]
  },
  {
   "cell_type": "code",
   "execution_count": null,
   "id": "f74593c5",
   "metadata": {},
   "outputs": [],
   "source": [
    "# Convert to grayscale\n",
    "gray_img = img.convert(\"L\")\n",
    "\n",
    "# Convert to RGB (if not already)\n",
    "rgb_img = img.convert(\"RGB\")\n",
    "\n",
    "gray_img.show()"
   ]
  },
  {
   "cell_type": "markdown",
   "id": "fa65caa2",
   "metadata": {},
   "source": [
    "---\n",
    "### Resizing and Cropping"
   ]
  },
  {
   "cell_type": "code",
   "execution_count": null,
   "id": "b875ac40",
   "metadata": {},
   "outputs": [],
   "source": [
    "# Resize image\n",
    "resized_img = img.resize((200, 200))\n",
    "resized_img.show()\n",
    "\n",
    "# Crop image (left, upper, right, lower)\n",
    "cropped_img = img.crop((50, 50, 200, 200))\n",
    "cropped_img.show()"
   ]
  },
  {
   "cell_type": "markdown",
   "id": "b4062762",
   "metadata": {},
   "source": [
    "---\n",
    "### Rotating and Flipping"
   ]
  },
  {
   "cell_type": "code",
   "execution_count": null,
   "id": "5773d85d",
   "metadata": {},
   "outputs": [],
   "source": [
    "# Rotate 90 degrees\n",
    "rotated_img = img.rotate(90)\n",
    "rotated_img.show()\n",
    "\n",
    "# Flip horizontally\n",
    "flipped_img = img.transpose(Image.FLIP_LEFT_RIGHT)\n",
    "flipped_img.show()\n",
    "\n",
    "# Flip vertically\n",
    "flipped_img_v = img.transpose(Image.FLIP_TOP_BOTTOM)\n",
    "flipped_img_v.show()"
   ]
  },
  {
   "cell_type": "markdown",
   "id": "5dc4f0a2",
   "metadata": {},
   "source": [
    "---\n",
    "### Drawing on Images"
   ]
  },
  {
   "cell_type": "code",
   "execution_count": null,
   "id": "f8965f71",
   "metadata": {},
   "outputs": [],
   "source": [
    "# Create a drawing object\n",
    "draw = ImageDraw.Draw(img)\n",
    "\n",
    "# Draw a rectangle\n",
    "draw.rectangle([50, 50, 150, 150], outline=\"red\", width=3)\n",
    "\n",
    "# Draw an ellipse\n",
    "draw.ellipse([200, 50, 300, 150], outline=\"blue\", width=3)\n",
    "\n",
    "# Draw text (requires a font)\n",
    "font = ImageFont.load_default()\n",
    "draw.text((50, 200), \"Hello Pillow!\", fill=\"green\", font=font)\n",
    "\n",
    "img.show()"
   ]
  },
  {
   "cell_type": "markdown",
   "id": "2cd23307",
   "metadata": {},
   "source": [
    "---\n",
    "### Applying Filters"
   ]
  },
  {
   "cell_type": "code",
   "execution_count": null,
   "id": "f66be0e7",
   "metadata": {},
   "outputs": [],
   "source": [
    "# Blur image\n",
    "blur_img = img.filter(ImageFilter.BLUR)\n",
    "blur_img.show()\n",
    "\n",
    "# Sharpen image\n",
    "sharp_img = img.filter(ImageFilter.SHARPEN)\n",
    "sharp_img.show()"
   ]
  },
  {
   "cell_type": "markdown",
   "id": "0ee9053c",
   "metadata": {},
   "source": [
    "---\n",
    "### Saving Images"
   ]
  },
  {
   "cell_type": "code",
   "execution_count": null,
   "id": "71f42591",
   "metadata": {},
   "outputs": [],
   "source": [
    "# Save as JPEG\n",
    "img.save(\"output.jpg\", format=\"JPEG\", quality=90)\n",
    "\n",
    "# Save as PNG\n",
    "img.save(\"output.png\", format=\"PNG\")"
   ]
  },
  {
   "cell_type": "markdown",
   "id": "70e37548",
   "metadata": {},
   "source": [
    "---\n",
    "### Working with Numpy Arrays"
   ]
  },
  {
   "cell_type": "code",
   "execution_count": null,
   "id": "a00f0f67",
   "metadata": {},
   "outputs": [],
   "source": [
    "import numpy as np\n",
    "\n",
    "# Convert PIL Image to numpy array\n",
    "img_array = np.array(img)\n",
    "print(img_array.shape)\n",
    "\n",
    "# Convert numpy array back to PIL Image\n",
    "img_from_array = Image.fromarray(img_array)\n",
    "img_from_array.show()"
   ]
  },
  {
   "cell_type": "markdown",
   "id": "1cb89239",
   "metadata": {},
   "source": [
    "---\n",
    "### Creating New Images"
   ]
  },
  {
   "cell_type": "code",
   "execution_count": null,
   "id": "ce43e571",
   "metadata": {},
   "outputs": [],
   "source": [
    "# Create a blank RGB image\n",
    "new_img = Image.new(\"RGB\", (300, 300), color=\"white\")\n",
    "\n",
    "# Draw on it\n",
    "draw = ImageDraw.Draw(new_img)\n",
    "draw.text((50, 150), \"Hello World\", fill=\"black\")\n",
    "new_img.show()"
   ]
  },
  {
   "cell_type": "markdown",
   "id": "5eb55fda",
   "metadata": {},
   "source": [
    "---\n",
    "### Handling Multiple Image Formats\n",
    "\n",
    "Pillow supports many formats: JPEG, PNG, BMP, GIF, TIFF, and more."
   ]
  },
  {
   "cell_type": "code",
   "execution_count": null,
   "id": "35cc5521",
   "metadata": {},
   "outputs": [],
   "source": [
    "# Convert PNG to JPEG\n",
    "img = Image.open(\"example.png\")\n",
    "img.convert(\"RGB\").save(\"example_converted.jpg\", \"JPEG\")"
   ]
  },
  {
   "cell_type": "markdown",
   "id": "877b05a8",
   "metadata": {},
   "source": [
    "---\n",
    "### Tips\n",
    "\n",
    "- `.size` returns (width, height)\n",
    "- `.mode` indicates color channels (`'L'`=grayscale, `'RGB'`, `'RGBA'` with alpha)\n",
    "- Use `ImageDraw.Draw` for text, lines, and shapes\n",
    "- Use `ImageFilter` for simple effects like blur or sharpen"
   ]
  },
  {
   "cell_type": "markdown",
   "id": "a4a301e5",
   "metadata": {},
   "source": [
    "---"
   ]
  }
 ],
 "metadata": {
  "kernelspec": {
   "display_name": "ref",
   "language": "python",
   "name": "python3"
  },
  "language_info": {
   "name": "python",
   "version": "3.12.11"
  }
 },
 "nbformat": 4,
 "nbformat_minor": 5
}
