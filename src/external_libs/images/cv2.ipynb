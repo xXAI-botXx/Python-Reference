{
 "cells": [
  {
   "cell_type": "markdown",
   "id": "15caecd0",
   "metadata": {},
   "source": [
    "# OpenCV (cv2)\n",
    "\n",
    "OpenCV is a powerful library for **computer vision and image processing**. It works with images, video, and real-time camera streams.\n",
    "\n",
    "Table of contents:\n",
    "- [Installation](#installation)\n",
    "- [Import](#importing-opencv)\n",
    "- [Loading Images](#loading-images)\n",
    "- [Displaying Images](#displaying-images)\n",
    "- [Saving Images](#saving-images)\n",
    "- [Color Conversions](#color-conversions)\n",
    "- [Resizing and Cropping](#resizing-and-cropping)\n",
    "- [Rotating and Flipping](#rotating-and-flipping)\n",
    "- [Drawing Shapes](#drawing-shapes)\n",
    "- [Thresholding](#thresholding)\n",
    "- [Blurring and Filtering](#blurring-and-filtering)\n",
    "- [Edge Detection](#edge-detection)\n",
    "- [Image Arithmetic](#image-arithmetic)\n",
    "- [Converting to/from NumPy](#converting-to/from-numPy)\n",
    "- [Tips](#tips)"
   ]
  },
  {
   "cell_type": "markdown",
   "id": "5759159e",
   "metadata": {},
   "source": [
    "---\n",
    "### Installation\n",
    "\n",
    "Install OpenCV via pip:\n",
    "```bash\n",
    "pip install opencv-python\n",
    "```\n",
    "\n",
    "For full functionality (extra modules):\n",
    "```bash\n",
    "pip install opencv-contrib-python\n",
    "```"
   ]
  },
  {
   "cell_type": "markdown",
   "id": "8867b527",
   "metadata": {},
   "source": [
    "---\n",
    "### Importing OpenCV"
   ]
  },
  {
   "cell_type": "code",
   "execution_count": null,
   "id": "61333dc4",
   "metadata": {
    "vscode": {
     "languageId": "plaintext"
    }
   },
   "outputs": [],
   "source": [
    "import cv2\n",
    "import numpy as np"
   ]
  },
  {
   "cell_type": "markdown",
   "id": "826d3fdc",
   "metadata": {},
   "source": [
    "---\n",
    "### Loading Images"
   ]
  },
  {
   "cell_type": "code",
   "execution_count": null,
   "id": "628c4ec1",
   "metadata": {
    "vscode": {
     "languageId": "plaintext"
    }
   },
   "outputs": [],
   "source": [
    "# Load an image in grayscale\n",
    "img_gray = cv2.imread(\"example.jpg\", cv2.IMREAD_GRAYSCALE)\n",
    "\n",
    "# Load an image in color (BGR)\n",
    "img_color = cv2.imread(\"example.jpg\", cv2.IMREAD_COLOR)\n",
    "\n",
    "# Load an image with unchanged channels (includes alpha if exists)\n",
    "img_unchanged = cv2.imread(\"example.png\", cv2.IMREAD_UNCHANGED)\n",
    "\n",
    "# Check image shape\n",
    "print(img_color.shape)  # (height, width, channels)"
   ]
  },
  {
   "cell_type": "markdown",
   "id": "0a995197",
   "metadata": {},
   "source": [
    "---\n",
    "### Displaying Images"
   ]
  },
  {
   "cell_type": "code",
   "execution_count": null,
   "id": "08adf8d8",
   "metadata": {
    "vscode": {
     "languageId": "plaintext"
    }
   },
   "outputs": [],
   "source": [
    "# Show an image in a window\n",
    "cv2.imshow(\"Image Window\", img_color)\n",
    "\n",
    "# Wait for a key press\n",
    "cv2.waitKey(0)\n",
    "\n",
    "# Destroy all OpenCV windows\n",
    "cv2.destroyAllWindows()"
   ]
  },
  {
   "cell_type": "markdown",
   "id": "a7fd74b4",
   "metadata": {},
   "source": [
    "> Tip: In Jupyter notebooks, cv2.imshow may not work. Use matplotlib instead:"
   ]
  },
  {
   "cell_type": "code",
   "execution_count": null,
   "id": "e3e7fdb2",
   "metadata": {
    "vscode": {
     "languageId": "plaintext"
    }
   },
   "outputs": [],
   "source": [
    "import matplotlib.pyplot as plt\n",
    "\n",
    "plt.imshow(cv2.cvtColor(img_color, cv2.COLOR_BGR2RGB))\n",
    "plt.axis('off')\n",
    "plt.show()"
   ]
  },
  {
   "cell_type": "markdown",
   "id": "5e78c767",
   "metadata": {},
   "source": [
    "---\n",
    "### Saving Images"
   ]
  },
  {
   "cell_type": "code",
   "execution_count": null,
   "id": "2a1e1ce3",
   "metadata": {
    "vscode": {
     "languageId": "plaintext"
    }
   },
   "outputs": [],
   "source": [
    "# Save an image\n",
    "cv2.imwrite(\"output.jpg\", img_color)\n",
    "cv2.imwrite(\"output.png\", img_gray)"
   ]
  },
  {
   "cell_type": "markdown",
   "id": "f438ceb4",
   "metadata": {},
   "source": [
    "---\n",
    "### Color Conversions\n",
    "\n",
    "OpenCV uses BGR by default, unlike Pillow which uses RGB."
   ]
  },
  {
   "cell_type": "code",
   "execution_count": null,
   "id": "ce4cdeee",
   "metadata": {
    "vscode": {
     "languageId": "plaintext"
    }
   },
   "outputs": [],
   "source": [
    "# Convert BGR to RGB\n",
    "img_rgb = cv2.cvtColor(img_color, cv2.COLOR_BGR2RGB)\n",
    "\n",
    "# Convert BGR to Grayscale\n",
    "img_gray = cv2.cvtColor(img_color, cv2.COLOR_BGR2GRAY)\n",
    "\n",
    "# Convert BGR to HSV\n",
    "img_hsv = cv2.cvtColor(img_color, cv2.COLOR_BGR2HSV)"
   ]
  },
  {
   "cell_type": "markdown",
   "id": "8669d5b1",
   "metadata": {},
   "source": [
    "---\n",
    "### Resizing and Cropping"
   ]
  },
  {
   "cell_type": "code",
   "execution_count": null,
   "id": "9fae297b",
   "metadata": {
    "vscode": {
     "languageId": "plaintext"
    }
   },
   "outputs": [],
   "source": [
    "# Resize image\n",
    "resized_img = cv2.resize(img_color, (200, 200))  # width, height\n",
    "\n",
    "# Crop image (y1:y2, x1:x2)\n",
    "cropped_img = img_color[50:200, 100:300]"
   ]
  },
  {
   "cell_type": "markdown",
   "id": "f508d812",
   "metadata": {},
   "source": [
    "---\n",
    "### Rotating and Flipping"
   ]
  },
  {
   "cell_type": "code",
   "execution_count": null,
   "id": "2be5f7d0",
   "metadata": {
    "vscode": {
     "languageId": "plaintext"
    }
   },
   "outputs": [],
   "source": [
    "# Flip horizontally\n",
    "flip_h = cv2.flip(img_color, 1)\n",
    "\n",
    "# Flip vertically\n",
    "flip_v = cv2.flip(img_color, 0)\n",
    "\n",
    "# Rotate using cv2.getRotationMatrix2D\n",
    "(h, w) = img_color.shape[:2]\n",
    "center = (w // 2, h // 2)\n",
    "M = cv2.getRotationMatrix2D(center, 90, 1.0)  # angle, scale\n",
    "rotated_img = cv2.warpAffine(img_color, M, (w, h))"
   ]
  },
  {
   "cell_type": "markdown",
   "id": "94b86ce1",
   "metadata": {},
   "source": [
    "---\n",
    "### Drawing Shapes"
   ]
  },
  {
   "cell_type": "code",
   "execution_count": null,
   "id": "2f688fec",
   "metadata": {
    "vscode": {
     "languageId": "plaintext"
    }
   },
   "outputs": [],
   "source": [
    "# Draw a rectangle\n",
    "cv2.rectangle(img_color, (50, 50), (200, 200), (0, 0, 255), 3)  # BGR\n",
    "\n",
    "# Draw a circle\n",
    "cv2.circle(img_color, (250, 250), 50, (255, 0, 0), 2)\n",
    "\n",
    "# Draw a line\n",
    "cv2.line(img_color, (0, 0), (300, 300), (0, 255, 0), 2)\n",
    "\n",
    "# Draw text\n",
    "cv2.putText(img_color, \"OpenCV\", (50, 400), cv2.FONT_HERSHEY_SIMPLEX, 1, (255, 255, 255), 2)\n",
    "\n",
    "cv2.imshow(\"Drawn Image\", img_color)\n",
    "cv2.waitKey(0)\n",
    "cv2.destroyAllWindows()"
   ]
  },
  {
   "cell_type": "markdown",
   "id": "e0dead04",
   "metadata": {},
   "source": [
    "---\n",
    "### Thresholding"
   ]
  },
  {
   "cell_type": "code",
   "execution_count": null,
   "id": "aa0383fd",
   "metadata": {
    "vscode": {
     "languageId": "plaintext"
    }
   },
   "outputs": [],
   "source": [
    "# Simple binary threshold\n",
    "ret, thresh = cv2.threshold(img_gray, 127, 255, cv2.THRESH_BINARY)\n",
    "\n",
    "# Adaptive threshold\n",
    "adaptive_thresh = cv2.adaptiveThreshold(\n",
    "    img_gray, 255, cv2.ADAPTIVE_THRESH_GAUSSIAN_C, cv2.THRESH_BINARY, 11, 2\n",
    ")"
   ]
  },
  {
   "cell_type": "markdown",
   "id": "c5ba1af5",
   "metadata": {},
   "source": [
    "---\n",
    "### Blurring and Filtering"
   ]
  },
  {
   "cell_type": "code",
   "execution_count": null,
   "id": "f91fd8b2",
   "metadata": {
    "vscode": {
     "languageId": "plaintext"
    }
   },
   "outputs": [],
   "source": [
    "# Gaussian blur\n",
    "blur = cv2.GaussianBlur(img_color, (5, 5), 0)\n",
    "\n",
    "# Median blur\n",
    "median = cv2.medianBlur(img_color, 5)\n",
    "\n",
    "# Bilateral filter (keeps edges)\n",
    "bilateral = cv2.bilateralFilter(img_color, 9, 75, 75)"
   ]
  },
  {
   "cell_type": "markdown",
   "id": "599551ac",
   "metadata": {},
   "source": [
    "---\n",
    "### Edge Detection"
   ]
  },
  {
   "cell_type": "code",
   "execution_count": null,
   "id": "48f16d54",
   "metadata": {
    "vscode": {
     "languageId": "plaintext"
    }
   },
   "outputs": [],
   "source": [
    "# Canny edge detector\n",
    "edges = cv2.Canny(img_gray, 100, 200)\n",
    "cv2.imshow(\"Edges\", edges)\n",
    "cv2.waitKey(0)\n",
    "cv2.destroyAllWindows()"
   ]
  },
  {
   "cell_type": "markdown",
   "id": "8a25ad9e",
   "metadata": {},
   "source": [
    "---\n",
    "### Image Arithmetic"
   ]
  },
  {
   "cell_type": "code",
   "execution_count": null,
   "id": "504c0c88",
   "metadata": {
    "vscode": {
     "languageId": "plaintext"
    }
   },
   "outputs": [],
   "source": [
    "# Add two images\n",
    "added = cv2.add(img1, img2)\n",
    "\n",
    "# Weighted sum (useful for blending)\n",
    "blended = cv2.addWeighted(img1, 0.7, img2, 0.3, 0)"
   ]
  },
  {
   "cell_type": "markdown",
   "id": "130b5f76",
   "metadata": {},
   "source": [
    "---\n",
    "### Converting to/from NumPy\n",
    "\n",
    "OpenCV images are already NumPy arrays, so you can use NumPy directly:"
   ]
  },
  {
   "cell_type": "code",
   "execution_count": null,
   "id": "612b3643",
   "metadata": {
    "vscode": {
     "languageId": "plaintext"
    }
   },
   "outputs": [],
   "source": [
    "# Access pixel values\n",
    "pixel = img_color[100, 50]  # [B, G, R]\n",
    "\n",
    "# Modify pixel\n",
    "img_color[100, 50] = [0, 255, 0]\n",
    "\n",
    "# Convert to float32\n",
    "img_float = img_color.astype(np.float32) / 255.0"
   ]
  },
  {
   "cell_type": "markdown",
   "id": "070b6caf",
   "metadata": {},
   "source": [
    "---\n",
    "### Tips\n",
    "\n",
    "- OpenCV default channel order: **BGR**\n",
    "- Matplotlib expects **RGB**, so use **cv2.cvtColor(img, cv2.COLOR_BGR2RGB)** for display.\n",
    "- Use `cv2.waitKey(0)` after `imshow()` to avoid windows closing immediately.\n",
    "- For **interactive notebooks**, use matplotlib instead of `cv2.imshow()`.\n",
    "- **Default datatype is uint** (unsigned int), so all negative values will be overflowed"
   ]
  },
  {
   "cell_type": "markdown",
   "id": "df69a6f4",
   "metadata": {},
   "source": [
    "---"
   ]
  }
 ],
 "metadata": {
  "language_info": {
   "name": "python"
  }
 },
 "nbformat": 4,
 "nbformat_minor": 5
}
