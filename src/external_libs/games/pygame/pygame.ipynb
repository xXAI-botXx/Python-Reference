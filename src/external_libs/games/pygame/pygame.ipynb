{
 "cells": [
  {
   "cell_type": "markdown",
   "id": "9ff4ff80",
   "metadata": {},
   "source": [
    "# PyGame"
   ]
  },
  {
   "cell_type": "markdown",
   "id": "cc2fe9f3",
   "metadata": {},
   "source": [
    "### Ressources\n",
    "\n",
    "- [PyGame Documentation](https://www.pygame.org/docs/)\n",
    "- [PyGame 4000 Book](https://www.pygame.org/project/4350/7914)\n",
    "- [Beginning Game Development with Python and Pygame: From Novice to Professional by  Will McGugan](https://www.amazon.com/Beginning-Game-Development-Python-Pygame/dp/1590598725)\n",
    "- [Making Games with Python & Pygame by Al Sweigart](https://inventwithpython.com/makinggames.pdf)\n",
    "- [Game Development Using Python by James R. Parker](https://www.thalia.de/shop/home/artikeldetails/A1069121248)"
   ]
  },
  {
   "cell_type": "markdown",
   "id": "5ffd71b8",
   "metadata": {},
   "source": [
    "..."
   ]
  }
 ],
 "metadata": {
  "language_info": {
   "name": "python"
  }
 },
 "nbformat": 4,
 "nbformat_minor": 5
}
