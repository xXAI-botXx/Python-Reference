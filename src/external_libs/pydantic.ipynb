{
 "cells": [
  {
   "cell_type": "markdown",
   "id": "9b99d565",
   "metadata": {},
   "source": [
    "# PyDantic"
   ]
  },
  {
   "cell_type": "code",
   "execution_count": null,
   "id": "1f740332",
   "metadata": {},
   "outputs": [],
   "source": []
  }
 ],
 "metadata": {
  "language_info": {
   "name": "python"
  }
 },
 "nbformat": 4,
 "nbformat_minor": 5
}
