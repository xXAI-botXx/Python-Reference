{
 "cells": [
  {
   "cell_type": "markdown",
   "id": "251d2ce5",
   "metadata": {},
   "source": [
    "# OpenGL with Python\n",
    "\n",
    "This notebooks covers rendering using the OpenGL graphics library through ModernGL and PyGame/ModernGL-Window.\n",
    "\n",
    "Needed Packages: `pygame` `moderngl` *-> already installed if using the installation of this repo*\n",
    "\n",
    "PyGame is used for window creation and communication with the OS (key events, ...), and OpenGL (ModernGL) for the rendering itself."
   ]
  },
  {
   "cell_type": "markdown",
   "id": "c6666a2c",
   "metadata": {},
   "source": [
    "### Ressources\n",
    "\n",
    "- [Online Documentation](https://moderngl.readthedocs.io/en/5.8.2/)\n",
    "- [Youtube Tutorial by DaFluffyPotato](https://www.youtube.com/watch?v=LFbePt8i0DI&t=415s)"
   ]
  },
  {
   "cell_type": "markdown",
   "id": "e4940fe7",
   "metadata": {},
   "source": [
    "### PyGame Base Setup"
   ]
  },
  {
   "cell_type": "code",
   "execution_count": null,
   "id": "999ba23f",
   "metadata": {},
   "outputs": [
    {
     "ename": "SystemExit",
     "evalue": "0",
     "output_type": "error",
     "traceback": [
      "An exception has occurred, use %tb to see the full traceback.\n",
      "\u001b[31mSystemExit\u001b[39m\u001b[31m:\u001b[39m 0\n"
     ]
    }
   ],
   "source": [
    "import sys\n",
    "import pygame\n",
    "\n",
    "pygame.init()\n",
    "\n",
    "screen = pygame.display.set_mode((800, 600))\n",
    "clock = pygame.time.Clock()\n",
    "\n",
    "player_width = 30\n",
    "player_height = 30\n",
    "\n",
    "pygame.mouse.set_visible(False)\n",
    "\n",
    "while True:\n",
    "    screen.fill((0, 0, 0))\n",
    "    x, y = pygame.mouse.get_pos()\n",
    "    pygame.draw.rect(surface=screen, color=(135, 97, 191), rect=pygame.Rect(x-player_width//2, y-player_height//2, player_width, player_height))\n",
    "    \n",
    "    for event in pygame.event.get():\n",
    "        if event.type == pygame.QUIT:\n",
    "            pygame.quit()\n",
    "            sys.exit(0)\n",
    "    \n",
    "    pygame.display.flip()\n",
    "    clock.tick(60)"
   ]
  },
  {
   "cell_type": "markdown",
   "id": "24d12085",
   "metadata": {},
   "source": [
    "### Adding ModernGL for rendering"
   ]
  },
  {
   "cell_type": "code",
   "execution_count": null,
   "id": "41f08b3a",
   "metadata": {},
   "outputs": [],
   "source": []
  }
 ],
 "metadata": {
  "kernelspec": {
   "display_name": "ref",
   "language": "python",
   "name": "python3"
  },
  "language_info": {
   "codemirror_mode": {
    "name": "ipython",
    "version": 3
   },
   "file_extension": ".py",
   "mimetype": "text/x-python",
   "name": "python",
   "nbconvert_exporter": "python",
   "pygments_lexer": "ipython3",
   "version": "3.12.11"
  }
 },
 "nbformat": 4,
 "nbformat_minor": 5
}
