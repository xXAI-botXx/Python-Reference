{
 "cells": [
  {
   "cell_type": "markdown",
   "id": "bbbab6d6",
   "metadata": {},
   "source": [
    "# Pillow"
   ]
  }
 ],
 "metadata": {
  "language_info": {
   "name": "python"
  }
 },
 "nbformat": 4,
 "nbformat_minor": 5
}
