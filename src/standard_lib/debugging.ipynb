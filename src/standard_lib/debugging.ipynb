{
 "cells": [
  {
   "cell_type": "markdown",
   "id": "492a4ce7",
   "metadata": {},
   "source": [
    "# Debugging\n",
    "\n",
    "Including `dis` and `inspect` module\n",
    "\n",
    "- [...]()\n",
    "- [`dis` - Disassembler for Python-Bytecode](#dis---disassembler-for-python---bytecode)\n",
    "- [`inspect` - Introspection of live objects](#inspect---introspection-of-live-objects)"
   ]
  },
  {
   "cell_type": "markdown",
   "id": "b1dec198",
   "metadata": {},
   "source": [
    "..."
   ]
  },
  {
   "cell_type": "markdown",
   "id": "49f9cad3",
   "metadata": {},
   "source": [
    "---\n",
    "### `dis` - Disassembler for Python-Bytecode\n",
    "\n",
    "The basics of `dis` are already covered in [execution guide notebook](../basics/execution.ipynb) but let's look at all functions available from this module which let's us look into the Bytecode.\n",
    "\n",
    "| Function | Description | Example |\n",
    "| -------- | ----------- | ------- |\n",
    "| `dis.dis(obj)` | Disassemble functions, methods, classes, or code objects. | `dis.dis(foo)` |\n",
    "| `dis.code_info(obj)` | Summarize a code object (variables, consts, stack size, flags, etc.). | `print(dis.code_info(foo.__code__))` |\n",
    "| `dis.get_instructions(obj)` | Iterator over bytecode instructions with details (`opcode`, `arg`, `argval`, `starts_line`, etc.). | `for i in dis.get_instructions(foo): print(i)` |\n",
    "| `dis.show_code(obj)` | Print details about a code object (like `co_varnames`, `co_consts`, etc.). | `dis.show_code(foo)` |\n",
    "| `dis.Bytecode(obj)` | Wrapper object that behaves like a sequence of instructions. | `for instr in dis.Bytecode(foo): print(instr.opname, instr.argval)` |\n",
    "| `dis.disassemble(code, lasti=-1, ...)` | Lower-level function for disassembly. | Rarely used directly. |\n",
    "\n",
    "\n",
    "`dis` mostly used for reading, iterating, or summarizing bytecode. It does not modify it."
   ]
  },
  {
   "cell_type": "markdown",
   "id": "5e45e0a7",
   "metadata": {},
   "source": [
    "---\n",
    "### `inspect` - Introspection of live objects\n",
    "\n",
    "The `inspect` module is very helpful by giving you informations about living objects which can (but not only) be used for debugging.\n",
    "Here are the most important functionalities of this module:\n",
    "\n",
    "| Function | Description | Example |\n",
    "| -------- | ----------- | ------- |\n",
    "| `inspect.getsource(obj)` | Get the original source code (if available). | `print(inspect.getsource(foo))` |\n",
    "| `inspect.signature(func)` | Get call signature (parameters, defaults, annotations). | `print(inspect.signature(foo))` |\n",
    "| `inspect.getdoc(obj)` | Get docstring. | `print(inspect.getdoc(foo))` |\n",
    "| `inspect.getmodule(obj)` | Find the module where an object was defined. | `print(inspect.getmodule(foo))` |\n",
    "| `inspect.getfile(obj)` | Get file path of definition. | `print(inspect.getfile(foo))` |\n",
    "| `inspect.getmembers(obj, predicate)` | Get attributes/methods (optionally filter by predicate like `inspect.isfunction`). | `print(inspect.getmembers(math, inspect.isbuiltin))` |\n",
    "| `inspect.isfunction(obj)` | Predicate: is it a function? | `inspect.isfunction(foo)` |\n",
    "| `inspect.ismethod(obj)` | Predicate: is it a method? | `inspect.ismethod(MyClass.method)` |\n",
    "| `inspect.isclass(obj)` | Predicate: is it a class? | `inspect.isclass(MyClass)` |\n",
    "| `inspect.currentframe()` | Get current call stack frame. | `frame = inspect.currentframe()` |\n",
    "| `inspect.stack()` | Get full call stack (frame records). | `print(inspect.stack())` |\n",
    "| `inspect.getargspec(func)` *(deprecated)* | Get argument list for a function. | Use `signature` instead. |\n",
    "\n",
    "`inspect` is for reflection / metadata / debugging / documentation generation.\n"
   ]
  },
  {
   "cell_type": "markdown",
   "id": "fff65d72",
   "metadata": {},
   "source": [
    "---"
   ]
  }
 ],
 "metadata": {
  "language_info": {
   "name": "python"
  }
 },
 "nbformat": 4,
 "nbformat_minor": 5
}
