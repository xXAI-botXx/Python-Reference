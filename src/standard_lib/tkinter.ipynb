{
 "cells": [
  {
   "cell_type": "markdown",
   "id": "9aebf3db",
   "metadata": {},
   "source": [
    "# (Modern) Tkinter"
   ]
  },
  {
   "cell_type": "markdown",
   "id": "d54cfcf2",
   "metadata": {},
   "source": [
    "### Ressources\n",
    "\n",
    "- [Modern Tkinter for Busy Python Developers: Quickly Learn to Create Great Looking User Interfaces for Windows, Mac and Linux Using Python's Standard GU by Mark Roseman](https://www.thalia.de/shop/home/artikeldetails/A1055418340)"
   ]
  },
  {
   "cell_type": "markdown",
   "id": "80e96ac8",
   "metadata": {},
   "source": [
    "..."
   ]
  }
 ],
 "metadata": {
  "language_info": {
   "name": "python"
  }
 },
 "nbformat": 4,
 "nbformat_minor": 5
}
