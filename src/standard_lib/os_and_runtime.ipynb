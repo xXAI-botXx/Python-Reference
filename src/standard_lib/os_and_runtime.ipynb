{
 "cells": [
  {
   "cell_type": "markdown",
   "id": "47ef258f",
   "metadata": {},
   "source": [
    "# OS and Runtime Environment"
   ]
  }
 ],
 "metadata": {
  "language_info": {
   "name": "python"
  }
 },
 "nbformat": 4,
 "nbformat_minor": 5
}
