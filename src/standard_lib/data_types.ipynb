{
 "cells": [
  {
   "cell_type": "markdown",
   "id": "c930f087",
   "metadata": {},
   "source": [
    "# Data-Types in the Standard Lib\n",
    "\n",
    "See page 231-264"
   ]
  }
 ],
 "metadata": {
  "language_info": {
   "name": "python"
  }
 },
 "nbformat": 4,
 "nbformat_minor": 5
}
