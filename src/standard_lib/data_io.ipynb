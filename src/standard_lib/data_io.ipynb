{
 "cells": [
  {
   "cell_type": "markdown",
   "id": "c930f087",
   "metadata": {},
   "source": [
    "# Data I/O"
   ]
  }
 ],
 "metadata": {
  "language_info": {
   "name": "python"
  }
 },
 "nbformat": 4,
 "nbformat_minor": 5
}
