{
 "cells": [
  {
   "cell_type": "markdown",
   "id": "62a8e638",
   "metadata": {},
   "source": [
    "# Functions\n",
    "\n",
    "Functions, Type Hints, anonym functions, decorator and built-in functions.\n",
    "\n",
    "See page 109"
   ]
  },
  {
   "cell_type": "markdown",
   "id": "c14f95de",
   "metadata": {},
   "source": [
    "\n",
    "---\n",
    "### Builtin-Functions\n",
    "\n",
    "FIXME: type, id, range, zip, help"
   ]
  }
 ],
 "metadata": {
  "language_info": {
   "name": "python"
  }
 },
 "nbformat": 4,
 "nbformat_minor": 5
}
