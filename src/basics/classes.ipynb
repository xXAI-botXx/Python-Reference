{
 "cells": [
  {
   "cell_type": "markdown",
   "id": "2bfd07d5",
   "metadata": {},
   "source": [
    "# Classes\n",
    "\n",
    "Structured data with classes/objects"
   ]
  }
 ],
 "metadata": {
  "language_info": {
   "name": "python"
  }
 },
 "nbformat": 4,
 "nbformat_minor": 5
}
