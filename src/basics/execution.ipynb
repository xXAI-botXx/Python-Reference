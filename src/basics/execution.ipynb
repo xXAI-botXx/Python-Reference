{
 "cells": [
  {
   "cell_type": "markdown",
   "id": "dbc268ff",
   "metadata": {},
   "source": [
    "# Python Program Execution\n",
    "\n",
    "Interactive Mode, Arguments, Debugging, Notebooks and behind the scenes knowledge."
   ]
  }
 ],
 "metadata": {
  "language_info": {
   "name": "python"
  }
 },
 "nbformat": 4,
 "nbformat_minor": 5
}
