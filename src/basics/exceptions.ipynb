{
 "cells": [
  {
   "cell_type": "markdown",
   "id": "63e3537a",
   "metadata": {},
   "source": [
    "# Exceptions"
   ]
  },
  {
   "cell_type": "markdown",
   "id": "537717a3",
   "metadata": {},
   "source": [
    "..."
   ]
  }
 ],
 "metadata": {
  "language_info": {
   "name": "python"
  }
 },
 "nbformat": 4,
 "nbformat_minor": 5
}
