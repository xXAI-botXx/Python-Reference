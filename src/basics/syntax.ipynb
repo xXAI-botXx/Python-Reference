{
 "cells": [
  {
   "cell_type": "markdown",
   "id": "69edf4c9",
   "metadata": {},
   "source": [
    "# Syntax\n",
    "\n",
    "Variable Definitions, Control flow, line breaking and line joining"
   ]
  },
  {
   "cell_type": "markdown",
   "id": "1f5c5450",
   "metadata": {},
   "source": [
    "..."
   ]
  },
  {
   "cell_type": "code",
   "execution_count": null,
   "id": "c53175a7",
   "metadata": {
    "vscode": {
     "languageId": "plaintext"
    }
   },
   "outputs": [],
   "source": []
  }
 ],
 "metadata": {
  "language_info": {
   "name": "python"
  }
 },
 "nbformat": 4,
 "nbformat_minor": 5
}
