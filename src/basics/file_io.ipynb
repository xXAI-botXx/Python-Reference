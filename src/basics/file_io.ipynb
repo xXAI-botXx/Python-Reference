{
 "cells": [
  {
   "cell_type": "markdown",
   "id": "4ba124fb",
   "metadata": {},
   "source": [
    "# File Input / Output"
   ]
  },
  {
   "cell_type": "markdown",
   "id": "a4c3c745",
   "metadata": {},
   "source": [
    "..."
   ]
  }
 ],
 "metadata": {
  "language_info": {
   "name": "python"
  }
 },
 "nbformat": 4,
 "nbformat_minor": 5
}
