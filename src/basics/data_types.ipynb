{
 "cells": [
  {
   "cell_type": "markdown",
   "id": "0278ed15",
   "metadata": {},
   "source": [
    "# Data Types"
   ]
  }
 ],
 "metadata": {
  "language_info": {
   "name": "python"
  }
 },
 "nbformat": 4,
 "nbformat_minor": 5
}
